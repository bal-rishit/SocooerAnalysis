{
 "cells": [
  {
   "cell_type": "markdown",
   "metadata": {},
   "source": [
    "# Access a Database with Python using sqlite3 Package - European Soccer Dataset"
   ]
  },
  {
   "cell_type": "markdown",
   "metadata": {},
   "source": [
    "## Introduction\n",
    "---\n",
    "We will be working with the soccer database from kaggle.: https://www.kaggle.com/hugomathien/soccer.\n",
    "It is the ultimate Soccer database for data analysis and machine learning and the entire details can be accessed from kaggle.      \n",
    "\n",
    "The database contains 8 tables further containing columns.\n",
    " \n",
    "Download the dataset in SQLite format from Kaggle and save it in the same directory as your jupyter notebook.\n",
    "\n",
    "---"
   ]
  },
  {
   "cell_type": "markdown",
   "metadata": {},
   "source": [
    "## Importing basic libraries"
   ]
  },
  {
   "cell_type": "code",
   "execution_count": 10,
   "metadata": {},
   "outputs": [],
   "source": [
    "import sqlite3\n",
    "import numpy as np\n",
    "import pandas as pd\n",
    "import seaborn as sns\n",
    "import matplotlib.pyplot as plt\n",
    "%matplotlib inline"
   ]
  },
  {
   "cell_type": "markdown",
   "metadata": {},
   "source": [
    "## Accessing the Database with the sqlite3 Package"
   ]
  },
  {
   "cell_type": "code",
   "execution_count": 2,
   "metadata": {},
   "outputs": [],
   "source": [
    "# Creating the connection to database\n",
    "con = sqlite3.connect('soccer.sqlite')\n",
    "cursor = con.cursor()\n"
   ]
  },
  {
   "cell_type": "markdown",
   "metadata": {},
   "source": [
    "## Accessing all the TABLES"
   ]
  },
  {
   "cell_type": "code",
   "execution_count": 8,
   "metadata": {},
   "outputs": [
    {
     "name": "stdout",
     "output_type": "stream",
     "text": [
      "('sqlite_sequence',)\n",
      "('Player_Attributes',)\n",
      "('Player',)\n",
      "('Match',)\n",
      "('League',)\n",
      "('Country',)\n",
      "('Team',)\n",
      "('Team_Attributes',)\n"
     ]
    }
   ],
   "source": [
    "for row in cursor.execute(\"SELECT name FROM sqlite_master WHERE type='table';\"):\n",
    "    print(row)"
   ]
  },
  {
   "cell_type": "markdown",
   "metadata": {},
   "source": [
    "## Reading all the TABLES"
   ]
  },
  {
   "cell_type": "code",
   "execution_count": 11,
   "metadata": {},
   "outputs": [],
   "source": [
    "\n",
    "\n",
    "country_table = pd.read_sql_query(\"SELECT * FROM Country\", con)\n",
    "league_table = pd.read_sql_query(\"SELECT * FROM League\", con)\n",
    "match_table = pd.read_sql_query(\"SELECT * FROM Match\", con)\n",
    "player_table = pd.read_sql_query(\"SELECT * FROM Player\", con)\n",
    "player_att_table = pd.read_sql_query(\"SELECT * FROM Player_Attributes\", con)\n",
    "team_table = pd.read_sql_query(\"SELECT * FROM Team\", con)\n",
    "team_att_table = pd.read_sql_query(\"SELECT * FROM Team_Attributes\", con)\n"
   ]
  },
  {
   "cell_type": "markdown",
   "metadata": {},
   "source": [
    "# Exploratory Data Analysis"
   ]
  },
  {
   "cell_type": "markdown",
   "metadata": {},
   "source": [
    "### Country Table"
   ]
  },
  {
   "cell_type": "code",
   "execution_count": 35,
   "metadata": {},
   "outputs": [
    {
     "name": "stdout",
     "output_type": "stream",
     "text": [
      "Dimension of Country Table is: (11, 2)\n",
      "                                                                                                    \n",
      "<class 'pandas.core.frame.DataFrame'>\n",
      "RangeIndex: 11 entries, 0 to 10\n",
      "Data columns (total 2 columns):\n",
      "id      11 non-null int64\n",
      "name    11 non-null object\n",
      "dtypes: int64(1), object(1)\n",
      "memory usage: 256.0+ bytes\n",
      "None\n",
      "                                                                                                    \n",
      "          name\n",
      "count       11\n",
      "unique      11\n",
      "top     Poland\n",
      "freq         1\n",
      "                                                                                                    \n",
      "                 id\n",
      "count     11.000000\n",
      "mean   12452.090909\n",
      "std     8215.308472\n",
      "min        1.000000\n",
      "25%     6289.000000\n",
      "50%    13274.000000\n",
      "75%    18668.000000\n",
      "max    24558.000000\n",
      "                                                                                                    \n",
      "id      0\n",
      "name    0\n",
      "dtype: int64\n"
     ]
    }
   ],
   "source": [
    "print(\"Dimension of Country Table is: {}\".format(country_table.shape))\n",
    "print(100*\" \")\n",
    "print(country_table.info())\n",
    "print(100*\" \")\n",
    "print(country_table.select_dtypes(exclude=['float64','int64']).describe())\n",
    "print(100*\" \")\n",
    "print(country_table.describe())\n",
    "print(100*\" \")\n",
    "print(country_table.isnull().sum(axis=0))"
   ]
  },
  {
   "cell_type": "code",
   "execution_count": 27,
   "metadata": {},
   "outputs": [
    {
     "data": {
      "text/html": [
       "<div>\n",
       "<style scoped>\n",
       "    .dataframe tbody tr th:only-of-type {\n",
       "        vertical-align: middle;\n",
       "    }\n",
       "\n",
       "    .dataframe tbody tr th {\n",
       "        vertical-align: top;\n",
       "    }\n",
       "\n",
       "    .dataframe thead th {\n",
       "        text-align: right;\n",
       "    }\n",
       "</style>\n",
       "<table border=\"1\" class=\"dataframe\">\n",
       "  <thead>\n",
       "    <tr style=\"text-align: right;\">\n",
       "      <th></th>\n",
       "      <th>id</th>\n",
       "      <th>name</th>\n",
       "    </tr>\n",
       "  </thead>\n",
       "  <tbody>\n",
       "    <tr>\n",
       "      <th>0</th>\n",
       "      <td>1</td>\n",
       "      <td>Belgium</td>\n",
       "    </tr>\n",
       "    <tr>\n",
       "      <th>1</th>\n",
       "      <td>1729</td>\n",
       "      <td>England</td>\n",
       "    </tr>\n",
       "    <tr>\n",
       "      <th>2</th>\n",
       "      <td>4769</td>\n",
       "      <td>France</td>\n",
       "    </tr>\n",
       "    <tr>\n",
       "      <th>3</th>\n",
       "      <td>7809</td>\n",
       "      <td>Germany</td>\n",
       "    </tr>\n",
       "    <tr>\n",
       "      <th>4</th>\n",
       "      <td>10257</td>\n",
       "      <td>Italy</td>\n",
       "    </tr>\n",
       "    <tr>\n",
       "      <th>5</th>\n",
       "      <td>13274</td>\n",
       "      <td>Netherlands</td>\n",
       "    </tr>\n",
       "    <tr>\n",
       "      <th>6</th>\n",
       "      <td>15722</td>\n",
       "      <td>Poland</td>\n",
       "    </tr>\n",
       "    <tr>\n",
       "      <th>7</th>\n",
       "      <td>17642</td>\n",
       "      <td>Portugal</td>\n",
       "    </tr>\n",
       "    <tr>\n",
       "      <th>8</th>\n",
       "      <td>19694</td>\n",
       "      <td>Scotland</td>\n",
       "    </tr>\n",
       "    <tr>\n",
       "      <th>9</th>\n",
       "      <td>21518</td>\n",
       "      <td>Spain</td>\n",
       "    </tr>\n",
       "    <tr>\n",
       "      <th>10</th>\n",
       "      <td>24558</td>\n",
       "      <td>Switzerland</td>\n",
       "    </tr>\n",
       "  </tbody>\n",
       "</table>\n",
       "</div>"
      ],
      "text/plain": [
       "       id         name\n",
       "0       1      Belgium\n",
       "1    1729      England\n",
       "2    4769       France\n",
       "3    7809      Germany\n",
       "4   10257        Italy\n",
       "5   13274  Netherlands\n",
       "6   15722       Poland\n",
       "7   17642     Portugal\n",
       "8   19694     Scotland\n",
       "9   21518        Spain\n",
       "10  24558  Switzerland"
      ]
     },
     "execution_count": 27,
     "metadata": {},
     "output_type": "execute_result"
    }
   ],
   "source": [
    "country_table"
   ]
  },
  {
   "cell_type": "markdown",
   "metadata": {},
   "source": [
    "###  Player Table"
   ]
  },
  {
   "cell_type": "code",
   "execution_count": 34,
   "metadata": {},
   "outputs": [
    {
     "name": "stdout",
     "output_type": "stream",
     "text": [
      "Dimension of Player Table is: (11060, 7)\n",
      "                                                                                                    \n",
      "<class 'pandas.core.frame.DataFrame'>\n",
      "RangeIndex: 11060 entries, 0 to 11059\n",
      "Data columns (total 7 columns):\n",
      "id                    11060 non-null int64\n",
      "player_api_id         11060 non-null int64\n",
      "player_name           11060 non-null object\n",
      "player_fifa_api_id    11060 non-null int64\n",
      "birthday              11060 non-null object\n",
      "height                11060 non-null float64\n",
      "weight                11060 non-null int64\n",
      "dtypes: float64(1), int64(4), object(2)\n",
      "memory usage: 604.9+ KB\n",
      "None\n",
      "                                                                                                    \n",
      "       player_name             birthday\n",
      "count        11060                11060\n",
      "unique       10848                 5762\n",
      "top         Danilo  1989-03-02 00:00:00\n",
      "freq             7                   10\n",
      "                                                                                                    \n",
      "                 id  player_api_id  player_fifa_api_id        height  \\\n",
      "count  11060.000000   11060.000000        11060.000000  11060.000000   \n",
      "mean    5537.511392  156582.427215       165664.910488    181.867445   \n",
      "std     3197.692647  160713.700624        58649.928360      6.369201   \n",
      "min        1.000000    2625.000000            2.000000    157.480000   \n",
      "25%     2767.750000   35555.500000       151889.500000    177.800000   \n",
      "50%     5536.500000   96619.500000       184671.000000    182.880000   \n",
      "75%     8306.250000  212470.500000       203883.250000    185.420000   \n",
      "max    11075.000000  750584.000000       234141.000000    208.280000   \n",
      "\n",
      "             weight  \n",
      "count  11060.000000  \n",
      "mean     168.380289  \n",
      "std       14.990217  \n",
      "min      117.000000  \n",
      "25%      159.000000  \n",
      "50%      168.000000  \n",
      "75%      179.000000  \n",
      "max      243.000000  \n",
      "                                                                                                    \n",
      "id                    0\n",
      "player_api_id         0\n",
      "player_name           0\n",
      "player_fifa_api_id    0\n",
      "birthday              0\n",
      "height                0\n",
      "weight                0\n",
      "dtype: int64\n"
     ]
    }
   ],
   "source": [
    "print(\"Dimension of Player Table is: {}\".format(player_table.shape))\n",
    "print(100*\" \")\n",
    "print(player_table.info())\n",
    "print(100*\" \")\n",
    "print(player_table.select_dtypes(exclude=['float64','int64']).describe())\n",
    "print(100*\" \")\n",
    "print(player_table.describe())\n",
    "print(100*\" \")\n",
    "print(player_table.isnull().sum(axis=0))\n"
   ]
  },
  {
   "cell_type": "code",
   "execution_count": 27,
   "metadata": {},
   "outputs": [
    {
     "data": {
      "text/html": [
       "<div>\n",
       "<style scoped>\n",
       "    .dataframe tbody tr th:only-of-type {\n",
       "        vertical-align: middle;\n",
       "    }\n",
       "\n",
       "    .dataframe tbody tr th {\n",
       "        vertical-align: top;\n",
       "    }\n",
       "\n",
       "    .dataframe thead th {\n",
       "        text-align: right;\n",
       "    }\n",
       "</style>\n",
       "<table border=\"1\" class=\"dataframe\">\n",
       "  <thead>\n",
       "    <tr style=\"text-align: right;\">\n",
       "      <th></th>\n",
       "      <th>id</th>\n",
       "      <th>player_fifa_api_id</th>\n",
       "      <th>player_api_id</th>\n",
       "      <th>date</th>\n",
       "      <th>overall_rating</th>\n",
       "      <th>potential</th>\n",
       "      <th>preferred_foot</th>\n",
       "      <th>attacking_work_rate</th>\n",
       "      <th>defensive_work_rate</th>\n",
       "      <th>crossing</th>\n",
       "      <th>...</th>\n",
       "      <th>vision</th>\n",
       "      <th>penalties</th>\n",
       "      <th>marking</th>\n",
       "      <th>standing_tackle</th>\n",
       "      <th>sliding_tackle</th>\n",
       "      <th>gk_diving</th>\n",
       "      <th>gk_handling</th>\n",
       "      <th>gk_kicking</th>\n",
       "      <th>gk_positioning</th>\n",
       "      <th>gk_reflexes</th>\n",
       "    </tr>\n",
       "  </thead>\n",
       "  <tbody>\n",
       "    <tr>\n",
       "      <th>0</th>\n",
       "      <td>1</td>\n",
       "      <td>218353</td>\n",
       "      <td>505942</td>\n",
       "      <td>2016-02-18 00:00:00</td>\n",
       "      <td>67.0</td>\n",
       "      <td>71.0</td>\n",
       "      <td>right</td>\n",
       "      <td>medium</td>\n",
       "      <td>medium</td>\n",
       "      <td>49.0</td>\n",
       "      <td>...</td>\n",
       "      <td>54.0</td>\n",
       "      <td>48.0</td>\n",
       "      <td>65.0</td>\n",
       "      <td>69.0</td>\n",
       "      <td>69.0</td>\n",
       "      <td>6.0</td>\n",
       "      <td>11.0</td>\n",
       "      <td>10.0</td>\n",
       "      <td>8.0</td>\n",
       "      <td>8.0</td>\n",
       "    </tr>\n",
       "    <tr>\n",
       "      <th>1</th>\n",
       "      <td>2</td>\n",
       "      <td>218353</td>\n",
       "      <td>505942</td>\n",
       "      <td>2015-11-19 00:00:00</td>\n",
       "      <td>67.0</td>\n",
       "      <td>71.0</td>\n",
       "      <td>right</td>\n",
       "      <td>medium</td>\n",
       "      <td>medium</td>\n",
       "      <td>49.0</td>\n",
       "      <td>...</td>\n",
       "      <td>54.0</td>\n",
       "      <td>48.0</td>\n",
       "      <td>65.0</td>\n",
       "      <td>69.0</td>\n",
       "      <td>69.0</td>\n",
       "      <td>6.0</td>\n",
       "      <td>11.0</td>\n",
       "      <td>10.0</td>\n",
       "      <td>8.0</td>\n",
       "      <td>8.0</td>\n",
       "    </tr>\n",
       "    <tr>\n",
       "      <th>2</th>\n",
       "      <td>3</td>\n",
       "      <td>218353</td>\n",
       "      <td>505942</td>\n",
       "      <td>2015-09-21 00:00:00</td>\n",
       "      <td>62.0</td>\n",
       "      <td>66.0</td>\n",
       "      <td>right</td>\n",
       "      <td>medium</td>\n",
       "      <td>medium</td>\n",
       "      <td>49.0</td>\n",
       "      <td>...</td>\n",
       "      <td>54.0</td>\n",
       "      <td>48.0</td>\n",
       "      <td>65.0</td>\n",
       "      <td>66.0</td>\n",
       "      <td>69.0</td>\n",
       "      <td>6.0</td>\n",
       "      <td>11.0</td>\n",
       "      <td>10.0</td>\n",
       "      <td>8.0</td>\n",
       "      <td>8.0</td>\n",
       "    </tr>\n",
       "    <tr>\n",
       "      <th>3</th>\n",
       "      <td>4</td>\n",
       "      <td>218353</td>\n",
       "      <td>505942</td>\n",
       "      <td>2015-03-20 00:00:00</td>\n",
       "      <td>61.0</td>\n",
       "      <td>65.0</td>\n",
       "      <td>right</td>\n",
       "      <td>medium</td>\n",
       "      <td>medium</td>\n",
       "      <td>48.0</td>\n",
       "      <td>...</td>\n",
       "      <td>53.0</td>\n",
       "      <td>47.0</td>\n",
       "      <td>62.0</td>\n",
       "      <td>63.0</td>\n",
       "      <td>66.0</td>\n",
       "      <td>5.0</td>\n",
       "      <td>10.0</td>\n",
       "      <td>9.0</td>\n",
       "      <td>7.0</td>\n",
       "      <td>7.0</td>\n",
       "    </tr>\n",
       "    <tr>\n",
       "      <th>4</th>\n",
       "      <td>5</td>\n",
       "      <td>218353</td>\n",
       "      <td>505942</td>\n",
       "      <td>2007-02-22 00:00:00</td>\n",
       "      <td>61.0</td>\n",
       "      <td>65.0</td>\n",
       "      <td>right</td>\n",
       "      <td>medium</td>\n",
       "      <td>medium</td>\n",
       "      <td>48.0</td>\n",
       "      <td>...</td>\n",
       "      <td>53.0</td>\n",
       "      <td>47.0</td>\n",
       "      <td>62.0</td>\n",
       "      <td>63.0</td>\n",
       "      <td>66.0</td>\n",
       "      <td>5.0</td>\n",
       "      <td>10.0</td>\n",
       "      <td>9.0</td>\n",
       "      <td>7.0</td>\n",
       "      <td>7.0</td>\n",
       "    </tr>\n",
       "  </tbody>\n",
       "</table>\n",
       "<p>5 rows × 42 columns</p>\n",
       "</div>"
      ],
      "text/plain": [
       "   id  player_fifa_api_id  player_api_id                 date  overall_rating  \\\n",
       "0   1              218353         505942  2016-02-18 00:00:00            67.0   \n",
       "1   2              218353         505942  2015-11-19 00:00:00            67.0   \n",
       "2   3              218353         505942  2015-09-21 00:00:00            62.0   \n",
       "3   4              218353         505942  2015-03-20 00:00:00            61.0   \n",
       "4   5              218353         505942  2007-02-22 00:00:00            61.0   \n",
       "\n",
       "   potential preferred_foot attacking_work_rate defensive_work_rate  crossing  \\\n",
       "0       71.0          right              medium              medium      49.0   \n",
       "1       71.0          right              medium              medium      49.0   \n",
       "2       66.0          right              medium              medium      49.0   \n",
       "3       65.0          right              medium              medium      48.0   \n",
       "4       65.0          right              medium              medium      48.0   \n",
       "\n",
       "      ...       vision  penalties  marking  standing_tackle  sliding_tackle  \\\n",
       "0     ...         54.0       48.0     65.0             69.0            69.0   \n",
       "1     ...         54.0       48.0     65.0             69.0            69.0   \n",
       "2     ...         54.0       48.0     65.0             66.0            69.0   \n",
       "3     ...         53.0       47.0     62.0             63.0            66.0   \n",
       "4     ...         53.0       47.0     62.0             63.0            66.0   \n",
       "\n",
       "   gk_diving  gk_handling  gk_kicking  gk_positioning  gk_reflexes  \n",
       "0        6.0         11.0        10.0             8.0          8.0  \n",
       "1        6.0         11.0        10.0             8.0          8.0  \n",
       "2        6.0         11.0        10.0             8.0          8.0  \n",
       "3        5.0         10.0         9.0             7.0          7.0  \n",
       "4        5.0         10.0         9.0             7.0          7.0  \n",
       "\n",
       "[5 rows x 42 columns]"
      ]
     },
     "execution_count": 27,
     "metadata": {},
     "output_type": "execute_result"
    }
   ],
   "source": [
    "player_att_table.head()"
   ]
  },
  {
   "cell_type": "code",
   "execution_count": 30,
   "metadata": {},
   "outputs": [
    {
     "name": "stdout",
     "output_type": "stream",
     "text": [
      "          id  player_api_id             player_name  player_fifa_api_id  \\\n",
      "0          1         505942      Aaron Appindangoye              218353   \n",
      "1          2         155782         Aaron Cresswell              189615   \n",
      "2          3         162549             Aaron Doran              186170   \n",
      "3          4          30572           Aaron Galindo              140161   \n",
      "4          5          23780            Aaron Hughes               17725   \n",
      "5          6          27316              Aaron Hunt              158138   \n",
      "6          7         564793              Aaron Kuhl              221280   \n",
      "7          8          30895            Aaron Lennon              152747   \n",
      "8          9         528212            Aaron Lennox              206592   \n",
      "9         10         101042           Aaron Meijers              188621   \n",
      "10        11          23889           Aaron Mokoena               47189   \n",
      "11        12         231592              Aaron Mooy              194958   \n",
      "12        13         163222          Aaron Muirhead              213568   \n",
      "13        14          40719            Aaron Niguez              183853   \n",
      "14        15          75489            Aaron Ramsey              186561   \n",
      "15        16         597948           Aaron Splaine              226014   \n",
      "16        17         161644   Aaron Taylor-Sinclair              213569   \n",
      "17        18          23499         Aaron Wilbraham                2335   \n",
      "18        19         120919       Aatif Chahechouhe              187939   \n",
      "19        20          46447               Abasse Ba              156626   \n",
      "20        21         167027       Abdelaziz Barrada              192274   \n",
      "21        22         245653   Abdelfettah Boukhriss              202425   \n",
      "22        23         128456  Abdelhamid El Kaoutari              188145   \n",
      "23        24          42664      Abdelkader Ghezzal              178063   \n",
      "24        25         425950         Abdellah Zoubir              212934   \n",
      "25        26          38423      Abdelmajid Oulmers               52782   \n",
      "26        27           3264      Abdelmalek Cherrad               51868   \n",
      "27        28         467485  Abdelmalek El Hasnaoui              209399   \n",
      "28        29         306735     Abdelouahed Chakhsi              210504   \n",
      "29        30          41659        Abderrazak Jadid              149241   \n",
      "...      ...            ...                     ...                 ...   \n",
      "11030  11046         244155                 Zezinho              212639   \n",
      "11031  11047          19696               Zhi Zheng              158293   \n",
      "11032  11048         290868             Zhi-Gin Lam              206209   \n",
      "11033  11049         169594             Zie Diabate              207780   \n",
      "11034  11050         244953            Ziggy Gordon              223263   \n",
      "11035  11051         200607         Ziguy Badibanga              195862   \n",
      "11036  11052         642618        Zinedine Machach              228821   \n",
      "11037  11053         277772              Zinho Gano              204227   \n",
      "11038  11054         246332             Ziri Hammar              202751   \n",
      "11039  11055         532766                    Zizo              222537   \n",
      "11040  11056          27305       Zlatan Bajramovic               31667   \n",
      "11041  11057          35724      Zlatan Ibrahimovic               41236   \n",
      "11042  11058          12574      Zlatan Ljubijankic              176103   \n",
      "11043  11059          39494            Zlatko Dedic              141111   \n",
      "11044  11060          17233           Zlatko Janjic              188405   \n",
      "11045  11061          42860        Zlatko Junuzovic              173474   \n",
      "11046  11062          37128           Zola Matumona              158142   \n",
      "11047  11063          24737             Zoltan Gera              137089   \n",
      "11048  11064         107281          Zoltan Stieber              179712   \n",
      "11049  11065          39801          Zoltan Szelesi              157283   \n",
      "11050  11066         491794         Zoran Josipovic              219943   \n",
      "11051  11067          56929          Zoran Rendulic              188593   \n",
      "11052  11068          99031             Zoran Tosic              105454   \n",
      "11053  11069         192132      Zouhaier Dhaouadhi              195840   \n",
      "11054  11070         282473          Zouhair Feddal              205705   \n",
      "11055  11071          26357          Zoumana Camara                2488   \n",
      "11056  11072         111182            Zsolt Laczko              164680   \n",
      "11057  11073          36491               Zsolt Low              111191   \n",
      "11058  11074          35506     Zurab Khizanishvili               47058   \n",
      "11059  11075          39902      Zvjezdan Misimovic              102359   \n",
      "\n",
      "                  birthday  height  weight  \n",
      "0      1992-02-29 00:00:00  182.88     187  \n",
      "1      1989-12-15 00:00:00  170.18     146  \n",
      "2      1991-05-13 00:00:00  170.18     163  \n",
      "3      1982-05-08 00:00:00  182.88     198  \n",
      "4      1979-11-08 00:00:00  182.88     154  \n",
      "5      1986-09-04 00:00:00  182.88     161  \n",
      "6      1996-01-30 00:00:00  172.72     146  \n",
      "7      1987-04-16 00:00:00  165.10     139  \n",
      "8      1993-02-19 00:00:00  190.50     181  \n",
      "9      1987-10-28 00:00:00  175.26     170  \n",
      "10     1980-11-25 00:00:00  182.88     181  \n",
      "11     1990-09-15 00:00:00  175.26     150  \n",
      "12     1990-08-30 00:00:00  187.96     168  \n",
      "13     1989-04-26 00:00:00  170.18     143  \n",
      "14     1990-12-26 00:00:00  177.80     154  \n",
      "15     1996-10-13 00:00:00  172.72     163  \n",
      "16     1991-04-08 00:00:00  182.88     176  \n",
      "17     1979-10-21 00:00:00  190.50     159  \n",
      "18     1986-07-02 00:00:00  175.26     150  \n",
      "19     1976-07-12 00:00:00  187.96     185  \n",
      "20     1989-06-19 00:00:00  177.80     161  \n",
      "21     1986-10-22 00:00:00  185.42     161  \n",
      "22     1990-03-17 00:00:00  180.34     161  \n",
      "23     1984-12-05 00:00:00  182.88     172  \n",
      "24     1991-12-05 00:00:00  180.34     161  \n",
      "25     1978-09-12 00:00:00  172.72     143  \n",
      "26     1981-01-14 00:00:00  185.42     165  \n",
      "27     1994-02-09 00:00:00  180.34     159  \n",
      "28     1986-10-01 00:00:00  182.88     170  \n",
      "29     1983-06-01 00:00:00  177.80     157  \n",
      "...                    ...     ...     ...  \n",
      "11030  1992-09-23 00:00:00  175.26     161  \n",
      "11031  1980-08-20 00:00:00  180.34     165  \n",
      "11032  1991-06-04 00:00:00  175.26     146  \n",
      "11033  1989-03-02 00:00:00  177.80     143  \n",
      "11034  1993-04-23 00:00:00  180.34     170  \n",
      "11035  1991-11-26 00:00:00  172.72     154  \n",
      "11036  1996-01-05 00:00:00  185.42     163  \n",
      "11037  1993-10-13 00:00:00  198.12     205  \n",
      "11038  1992-07-25 00:00:00  180.34     163  \n",
      "11039  1996-01-10 00:00:00  175.26     148  \n",
      "11040  1979-08-12 00:00:00  182.88     174  \n",
      "11041  1981-10-03 00:00:00  195.58     209  \n",
      "11042  1983-12-15 00:00:00  185.42     176  \n",
      "11043  1984-10-05 00:00:00  182.88     170  \n",
      "11044  1986-05-07 00:00:00  187.96     183  \n",
      "11045  1987-09-26 00:00:00  172.72     152  \n",
      "11046  1981-11-26 00:00:00  165.10     143  \n",
      "11047  1979-04-22 00:00:00  182.88     165  \n",
      "11048  1988-10-16 00:00:00  175.26     148  \n",
      "11049  1981-11-22 00:00:00  182.88     176  \n",
      "11050  1995-08-25 00:00:00  187.96     165  \n",
      "11051  1984-05-22 00:00:00  190.50     179  \n",
      "11052  1987-04-28 00:00:00  170.18     157  \n",
      "11053  1988-01-01 00:00:00  180.34     159  \n",
      "11054  1989-01-01 00:00:00  190.50     172  \n",
      "11055  1979-04-03 00:00:00  182.88     168  \n",
      "11056  1986-12-18 00:00:00  182.88     176  \n",
      "11057  1979-04-29 00:00:00  180.34     154  \n",
      "11058  1981-10-06 00:00:00  185.42     172  \n",
      "11059  1982-06-05 00:00:00  180.34     176  \n",
      "\n",
      "[11060 rows x 7 columns]\n"
     ]
    }
   ],
   "source": [
    "height_more_than_150 = pd.read_sql_query(\"SELECT * FROM Player WHERE height >= 150 \", con)\n",
    "print(height_more_than_150)"
   ]
  },
  {
   "cell_type": "code",
   "execution_count": 32,
   "metadata": {},
   "outputs": [
    {
     "data": {
      "text/plain": [
       "<matplotlib.axes._subplots.AxesSubplot at 0x27829655da0>"
      ]
     },
     "execution_count": 32,
     "metadata": {},
     "output_type": "execute_result"
    },
    {
     "data": {
      "image/png": "[encoded data removed]",
      "text/plain": [
       "<Figure size 432x288 with 1 Axes>"
      ]
     },
     "metadata": {},
     "output_type": "display_data"
    }
   ],
   "source": [
    "# Relationship between Player's heights and weights in a  boxplot\n",
    "sns.boxplot(data = player_table.loc[:,[\"height\",'weight']])"
   ]
  },
  {
   "cell_type": "code",
   "execution_count": 33,
   "metadata": {},
   "outputs": [
    {
     "name": "stderr",
     "output_type": "stream",
     "text": [
      "C:\\Users\\Parul\\Anaconda3\\lib\\site-packages\\matplotlib\\axes\\_axes.py:6462: UserWarning: The 'normed' kwarg is deprecated, and has been replaced by the 'density' kwarg.\n",
      "  warnings.warn(\"The 'normed' kwarg is deprecated, and has been \"\n",
      "C:\\Users\\Parul\\Anaconda3\\lib\\site-packages\\matplotlib\\axes\\_axes.py:6462: UserWarning: The 'normed' kwarg is deprecated, and has been replaced by the 'density' kwarg.\n",
      "  warnings.warn(\"The 'normed' kwarg is deprecated, and has been \"\n"
     ]
    },
    {
     "data": {
      "text/plain": [
       "<seaborn.axisgrid.JointGrid at 0x27825fbf6d8>"
      ]
     },
     "execution_count": 33,
     "metadata": {},
     "output_type": "execute_result"
    },
    {
     "data": {
      "image/png": "[encoded data removed]",
      "text/plain": [
       "<Figure size 432x432 with 3 Axes>"
      ]
     },
     "metadata": {},
     "output_type": "display_data"
    }
   ],
   "source": [
    "# Relationship between Player's height and weight in a jointplot\n",
    "sns.jointplot(x='height',y = 'weight',data = player_table,kind = 'scatter')"
   ]
  },
  {
   "cell_type": "markdown",
   "metadata": {},
   "source": [
    "Please feel feel to explore other tables too"
   ]
  },
  {
   "cell_type": "code",
   "execution_count": null,
   "metadata": {},
   "outputs": [],
   "source": []
  }
 ],
 "metadata": {
  "kernelspec": {
   "display_name": "Python 3",
   "language": "python",
   "name": "python3"
  },
  "language_info": {
   "codemirror_mode": {
    "name": "ipython",
    "version": 3
   },
   "file_extension": ".py",
   "mimetype": "text/x-python",
   "name": "python",
   "nbconvert_exporter": "python",
   "pygments_lexer": "ipython3",
   "version": "3.6.5"
  }
 },
 "nbformat": 4,
 "nbformat_minor": 2
}
